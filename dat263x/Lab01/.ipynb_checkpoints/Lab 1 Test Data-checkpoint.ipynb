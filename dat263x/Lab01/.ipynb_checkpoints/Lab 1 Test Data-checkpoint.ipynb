{
 "cells": [
  {
   "cell_type": "code",
   "execution_count": 1,
   "metadata": {},
   "outputs": [],
   "source": [
    "import numpy as np\n",
    "import pandas as pd\n",
    "import matplotlib.pyplot as plt\n",
    "import seaborn as sns\n",
    "import random\n",
    "\n",
    "%matplotlib inline\n",
    "pd.set_option('max_rows',20000)\n",
    "pd.set_option('max_columns',11)\n",
    "\n",
    "from sklearn.preprocessing import StandardScaler, MinMaxScaler"
   ]
  },
  {
   "cell_type": "code",
   "execution_count": 2,
   "metadata": {},
   "outputs": [],
   "source": [
    "test = pd.read_csv(\"test.csv\")"
   ]
  },
  {
   "cell_type": "code",
   "execution_count": 3,
   "metadata": {},
   "outputs": [
    {
     "data": {
      "text/html": [
       "<div>\n",
       "<style scoped>\n",
       "    .dataframe tbody tr th:only-of-type {\n",
       "        vertical-align: middle;\n",
       "    }\n",
       "\n",
       "    .dataframe tbody tr th {\n",
       "        vertical-align: top;\n",
       "    }\n",
       "\n",
       "    .dataframe thead th {\n",
       "        text-align: right;\n",
       "    }\n",
       "</style>\n",
       "<table border=\"1\" class=\"dataframe\">\n",
       "  <thead>\n",
       "    <tr style=\"text-align: right;\">\n",
       "      <th></th>\n",
       "      <th>PatientID</th>\n",
       "      <th>Pregnancies</th>\n",
       "      <th>PlasmaGlucose</th>\n",
       "      <th>DiastolicBloodPressure</th>\n",
       "      <th>TricepsThickness</th>\n",
       "      <th>SerumInsulin</th>\n",
       "      <th>BMI</th>\n",
       "      <th>DiabetesPedigree</th>\n",
       "      <th>Age</th>\n",
       "    </tr>\n",
       "  </thead>\n",
       "  <tbody>\n",
       "    <tr>\n",
       "      <th>0</th>\n",
       "      <td>1882185</td>\n",
       "      <td>9</td>\n",
       "      <td>104</td>\n",
       "      <td>51</td>\n",
       "      <td>7</td>\n",
       "      <td>24</td>\n",
       "      <td>27.369832</td>\n",
       "      <td>1.350472</td>\n",
       "      <td>43</td>\n",
       "    </tr>\n",
       "    <tr>\n",
       "      <th>1</th>\n",
       "      <td>1662484</td>\n",
       "      <td>6</td>\n",
       "      <td>73</td>\n",
       "      <td>61</td>\n",
       "      <td>35</td>\n",
       "      <td>24</td>\n",
       "      <td>18.743674</td>\n",
       "      <td>0.158365</td>\n",
       "      <td>23</td>\n",
       "    </tr>\n",
       "    <tr>\n",
       "      <th>2</th>\n",
       "      <td>1228510</td>\n",
       "      <td>4</td>\n",
       "      <td>115</td>\n",
       "      <td>50</td>\n",
       "      <td>29</td>\n",
       "      <td>243</td>\n",
       "      <td>34.692154</td>\n",
       "      <td>0.079019</td>\n",
       "      <td>23</td>\n",
       "    </tr>\n",
       "  </tbody>\n",
       "</table>\n",
       "</div>"
      ],
      "text/plain": [
       "   PatientID  Pregnancies  PlasmaGlucose  DiastolicBloodPressure  \\\n",
       "0    1882185            9            104                      51   \n",
       "1    1662484            6             73                      61   \n",
       "2    1228510            4            115                      50   \n",
       "\n",
       "   TricepsThickness  SerumInsulin        BMI  DiabetesPedigree  Age  \n",
       "0                 7            24  27.369832          1.350472   43  \n",
       "1                35            24  18.743674          0.158365   23  \n",
       "2                29           243  34.692154          0.079019   23  "
      ]
     },
     "execution_count": 3,
     "metadata": {},
     "output_type": "execute_result"
    }
   ],
   "source": [
    "test"
   ]
  },
  {
   "cell_type": "code",
   "execution_count": 4,
   "metadata": {},
   "outputs": [],
   "source": [
    "test['AgeLog'] = np.log(test['Age'])"
   ]
  },
  {
   "cell_type": "code",
   "execution_count": 5,
   "metadata": {},
   "outputs": [
    {
     "data": {
      "text/html": [
       "<div>\n",
       "<style scoped>\n",
       "    .dataframe tbody tr th:only-of-type {\n",
       "        vertical-align: middle;\n",
       "    }\n",
       "\n",
       "    .dataframe tbody tr th {\n",
       "        vertical-align: top;\n",
       "    }\n",
       "\n",
       "    .dataframe thead th {\n",
       "        text-align: right;\n",
       "    }\n",
       "</style>\n",
       "<table border=\"1\" class=\"dataframe\">\n",
       "  <thead>\n",
       "    <tr style=\"text-align: right;\">\n",
       "      <th></th>\n",
       "      <th>PatientID</th>\n",
       "      <th>Pregnancies</th>\n",
       "      <th>PlasmaGlucose</th>\n",
       "      <th>DiastolicBloodPressure</th>\n",
       "      <th>TricepsThickness</th>\n",
       "      <th>SerumInsulin</th>\n",
       "      <th>BMI</th>\n",
       "      <th>DiabetesPedigree</th>\n",
       "      <th>Age</th>\n",
       "      <th>AgeLog</th>\n",
       "    </tr>\n",
       "  </thead>\n",
       "  <tbody>\n",
       "    <tr>\n",
       "      <th>0</th>\n",
       "      <td>1882185</td>\n",
       "      <td>9</td>\n",
       "      <td>104</td>\n",
       "      <td>51</td>\n",
       "      <td>7</td>\n",
       "      <td>24</td>\n",
       "      <td>27.369832</td>\n",
       "      <td>1.350472</td>\n",
       "      <td>43</td>\n",
       "      <td>3.761200</td>\n",
       "    </tr>\n",
       "    <tr>\n",
       "      <th>1</th>\n",
       "      <td>1662484</td>\n",
       "      <td>6</td>\n",
       "      <td>73</td>\n",
       "      <td>61</td>\n",
       "      <td>35</td>\n",
       "      <td>24</td>\n",
       "      <td>18.743674</td>\n",
       "      <td>0.158365</td>\n",
       "      <td>23</td>\n",
       "      <td>3.135494</td>\n",
       "    </tr>\n",
       "    <tr>\n",
       "      <th>2</th>\n",
       "      <td>1228510</td>\n",
       "      <td>4</td>\n",
       "      <td>115</td>\n",
       "      <td>50</td>\n",
       "      <td>29</td>\n",
       "      <td>243</td>\n",
       "      <td>34.692154</td>\n",
       "      <td>0.079019</td>\n",
       "      <td>23</td>\n",
       "      <td>3.135494</td>\n",
       "    </tr>\n",
       "  </tbody>\n",
       "</table>\n",
       "</div>"
      ],
      "text/plain": [
       "   PatientID  Pregnancies  PlasmaGlucose  DiastolicBloodPressure  \\\n",
       "0    1882185            9            104                      51   \n",
       "1    1662484            6             73                      61   \n",
       "2    1228510            4            115                      50   \n",
       "\n",
       "   TricepsThickness  SerumInsulin        BMI  DiabetesPedigree  Age    AgeLog  \n",
       "0                 7            24  27.369832          1.350472   43  3.761200  \n",
       "1                35            24  18.743674          0.158365   23  3.135494  \n",
       "2                29           243  34.692154          0.079019   23  3.135494  "
      ]
     },
     "execution_count": 5,
     "metadata": {},
     "output_type": "execute_result"
    }
   ],
   "source": [
    "test"
   ]
  },
  {
   "cell_type": "code",
   "execution_count": 6,
   "metadata": {},
   "outputs": [],
   "source": [
    "test = test.drop(['Age'],axis=1)"
   ]
  },
  {
   "cell_type": "code",
   "execution_count": 7,
   "metadata": {},
   "outputs": [
    {
     "data": {
      "text/html": [
       "<div>\n",
       "<style scoped>\n",
       "    .dataframe tbody tr th:only-of-type {\n",
       "        vertical-align: middle;\n",
       "    }\n",
       "\n",
       "    .dataframe tbody tr th {\n",
       "        vertical-align: top;\n",
       "    }\n",
       "\n",
       "    .dataframe thead th {\n",
       "        text-align: right;\n",
       "    }\n",
       "</style>\n",
       "<table border=\"1\" class=\"dataframe\">\n",
       "  <thead>\n",
       "    <tr style=\"text-align: right;\">\n",
       "      <th></th>\n",
       "      <th>PatientID</th>\n",
       "      <th>Pregnancies</th>\n",
       "      <th>PlasmaGlucose</th>\n",
       "      <th>DiastolicBloodPressure</th>\n",
       "      <th>TricepsThickness</th>\n",
       "      <th>SerumInsulin</th>\n",
       "      <th>BMI</th>\n",
       "      <th>DiabetesPedigree</th>\n",
       "      <th>AgeLog</th>\n",
       "    </tr>\n",
       "  </thead>\n",
       "  <tbody>\n",
       "    <tr>\n",
       "      <th>0</th>\n",
       "      <td>1882185</td>\n",
       "      <td>9</td>\n",
       "      <td>104</td>\n",
       "      <td>51</td>\n",
       "      <td>7</td>\n",
       "      <td>24</td>\n",
       "      <td>27.369832</td>\n",
       "      <td>1.350472</td>\n",
       "      <td>3.761200</td>\n",
       "    </tr>\n",
       "    <tr>\n",
       "      <th>1</th>\n",
       "      <td>1662484</td>\n",
       "      <td>6</td>\n",
       "      <td>73</td>\n",
       "      <td>61</td>\n",
       "      <td>35</td>\n",
       "      <td>24</td>\n",
       "      <td>18.743674</td>\n",
       "      <td>0.158365</td>\n",
       "      <td>3.135494</td>\n",
       "    </tr>\n",
       "    <tr>\n",
       "      <th>2</th>\n",
       "      <td>1228510</td>\n",
       "      <td>4</td>\n",
       "      <td>115</td>\n",
       "      <td>50</td>\n",
       "      <td>29</td>\n",
       "      <td>243</td>\n",
       "      <td>34.692154</td>\n",
       "      <td>0.079019</td>\n",
       "      <td>3.135494</td>\n",
       "    </tr>\n",
       "  </tbody>\n",
       "</table>\n",
       "</div>"
      ],
      "text/plain": [
       "   PatientID  Pregnancies  PlasmaGlucose  DiastolicBloodPressure  \\\n",
       "0    1882185            9            104                      51   \n",
       "1    1662484            6             73                      61   \n",
       "2    1228510            4            115                      50   \n",
       "\n",
       "   TricepsThickness  SerumInsulin        BMI  DiabetesPedigree    AgeLog  \n",
       "0                 7            24  27.369832          1.350472  3.761200  \n",
       "1                35            24  18.743674          0.158365  3.135494  \n",
       "2                29           243  34.692154          0.079019  3.135494  "
      ]
     },
     "execution_count": 7,
     "metadata": {},
     "output_type": "execute_result"
    }
   ],
   "source": [
    "test"
   ]
  },
  {
   "cell_type": "code",
   "execution_count": null,
   "metadata": {},
   "outputs": [],
   "source": []
  },
  {
   "cell_type": "code",
   "execution_count": 8,
   "metadata": {},
   "outputs": [],
   "source": [
    "X_scalar = test[['PlasmaGlucose','DiastolicBloodPressure','TricepsThickness','SerumInsulin','BMI']]"
   ]
  },
  {
   "cell_type": "code",
   "execution_count": 9,
   "metadata": {},
   "outputs": [
    {
     "data": {
      "text/plain": [
       "(3, 5)"
      ]
     },
     "execution_count": 9,
     "metadata": {},
     "output_type": "execute_result"
    }
   ],
   "source": [
    "X_scalar.shape"
   ]
  },
  {
   "cell_type": "code",
   "execution_count": 10,
   "metadata": {},
   "outputs": [
    {
     "data": {
      "text/plain": [
       "array([[104.        ,  51.        ,   7.        ,  24.        ,\n",
       "         27.36983156],\n",
       "       [ 73.        ,  61.        ,  35.        ,  24.        ,\n",
       "         18.74367404],\n",
       "       [115.        ,  50.        ,  29.        , 243.        ,\n",
       "         34.69215364]])"
      ]
     },
     "execution_count": 10,
     "metadata": {},
     "output_type": "execute_result"
    }
   ],
   "source": [
    "X_scalar.values"
   ]
  },
  {
   "cell_type": "code",
   "execution_count": null,
   "metadata": {},
   "outputs": [],
   "source": []
  },
  {
   "cell_type": "code",
   "execution_count": 11,
   "metadata": {},
   "outputs": [],
   "source": [
    "X_minmax = test[['Pregnancies','DiabetesPedigree','AgeLog']]"
   ]
  },
  {
   "cell_type": "code",
   "execution_count": 12,
   "metadata": {},
   "outputs": [
    {
     "data": {
      "text/plain": [
       "(3, 3)"
      ]
     },
     "execution_count": 12,
     "metadata": {},
     "output_type": "execute_result"
    }
   ],
   "source": [
    "X_minmax.shape"
   ]
  },
  {
   "cell_type": "code",
   "execution_count": 13,
   "metadata": {},
   "outputs": [
    {
     "data": {
      "text/plain": [
       "array([[9.        , 1.35047205, 3.76120012],\n",
       "       [6.        , 0.15836498, 3.13549422],\n",
       "       [4.        , 0.07901857, 3.13549422]])"
      ]
     },
     "execution_count": 13,
     "metadata": {},
     "output_type": "execute_result"
    }
   ],
   "source": [
    "X_minmax.values"
   ]
  },
  {
   "cell_type": "code",
   "execution_count": null,
   "metadata": {},
   "outputs": [],
   "source": []
  },
  {
   "cell_type": "markdown",
   "metadata": {},
   "source": [
    "### Use StandardScaler method"
   ]
  },
  {
   "cell_type": "code",
   "execution_count": 14,
   "metadata": {},
   "outputs": [],
   "source": [
    "scaler = StandardScaler()"
   ]
  },
  {
   "cell_type": "code",
   "execution_count": 15,
   "metadata": {},
   "outputs": [],
   "source": [
    "X_scale_new = scaler.fit_transform(X_scalar)"
   ]
  },
  {
   "cell_type": "code",
   "execution_count": 16,
   "metadata": {},
   "outputs": [
    {
     "data": {
      "text/plain": [
       "array([[ 0.3748975 , -0.60404045, -1.38462194, -0.70710678,  0.06667678],\n",
       "       [-1.36837589,  1.40942772,  0.94154292, -0.70710678, -1.25672126],\n",
       "       [ 0.99347838, -0.80538727,  0.44307902,  1.41421356,  1.19004448]])"
      ]
     },
     "execution_count": 16,
     "metadata": {},
     "output_type": "execute_result"
    }
   ],
   "source": [
    "X_scale_new"
   ]
  },
  {
   "cell_type": "code",
   "execution_count": 17,
   "metadata": {},
   "outputs": [],
   "source": [
    "X_scale_new = pd.DataFrame(X_scale_new, columns=X_scalar.columns)"
   ]
  },
  {
   "cell_type": "code",
   "execution_count": 18,
   "metadata": {},
   "outputs": [
    {
     "data": {
      "text/html": [
       "<div>\n",
       "<style scoped>\n",
       "    .dataframe tbody tr th:only-of-type {\n",
       "        vertical-align: middle;\n",
       "    }\n",
       "\n",
       "    .dataframe tbody tr th {\n",
       "        vertical-align: top;\n",
       "    }\n",
       "\n",
       "    .dataframe thead th {\n",
       "        text-align: right;\n",
       "    }\n",
       "</style>\n",
       "<table border=\"1\" class=\"dataframe\">\n",
       "  <thead>\n",
       "    <tr style=\"text-align: right;\">\n",
       "      <th></th>\n",
       "      <th>PlasmaGlucose</th>\n",
       "      <th>DiastolicBloodPressure</th>\n",
       "      <th>TricepsThickness</th>\n",
       "      <th>SerumInsulin</th>\n",
       "      <th>BMI</th>\n",
       "    </tr>\n",
       "  </thead>\n",
       "  <tbody>\n",
       "    <tr>\n",
       "      <th>0</th>\n",
       "      <td>0.374898</td>\n",
       "      <td>-0.604040</td>\n",
       "      <td>-1.384622</td>\n",
       "      <td>-0.707107</td>\n",
       "      <td>0.066677</td>\n",
       "    </tr>\n",
       "    <tr>\n",
       "      <th>1</th>\n",
       "      <td>-1.368376</td>\n",
       "      <td>1.409428</td>\n",
       "      <td>0.941543</td>\n",
       "      <td>-0.707107</td>\n",
       "      <td>-1.256721</td>\n",
       "    </tr>\n",
       "    <tr>\n",
       "      <th>2</th>\n",
       "      <td>0.993478</td>\n",
       "      <td>-0.805387</td>\n",
       "      <td>0.443079</td>\n",
       "      <td>1.414214</td>\n",
       "      <td>1.190044</td>\n",
       "    </tr>\n",
       "  </tbody>\n",
       "</table>\n",
       "</div>"
      ],
      "text/plain": [
       "   PlasmaGlucose  DiastolicBloodPressure  TricepsThickness  SerumInsulin  \\\n",
       "0       0.374898               -0.604040         -1.384622     -0.707107   \n",
       "1      -1.368376                1.409428          0.941543     -0.707107   \n",
       "2       0.993478               -0.805387          0.443079      1.414214   \n",
       "\n",
       "        BMI  \n",
       "0  0.066677  \n",
       "1 -1.256721  \n",
       "2  1.190044  "
      ]
     },
     "execution_count": 18,
     "metadata": {},
     "output_type": "execute_result"
    }
   ],
   "source": [
    "X_scale_new.head()"
   ]
  },
  {
   "cell_type": "markdown",
   "metadata": {},
   "source": [
    "### Use MinMax method"
   ]
  },
  {
   "cell_type": "code",
   "execution_count": 19,
   "metadata": {},
   "outputs": [],
   "source": [
    "minmax = MinMaxScaler()"
   ]
  },
  {
   "cell_type": "code",
   "execution_count": 20,
   "metadata": {},
   "outputs": [],
   "source": [
    "X_mm_new = minmax.fit_transform(X_minmax)"
   ]
  },
  {
   "cell_type": "code",
   "execution_count": 21,
   "metadata": {},
   "outputs": [
    {
     "data": {
      "text/plain": [
       "array([[1.        , 1.        , 1.        ],\n",
       "       [0.4       , 0.06240607, 0.        ],\n",
       "       [0.        , 0.        , 0.        ]])"
      ]
     },
     "execution_count": 21,
     "metadata": {},
     "output_type": "execute_result"
    }
   ],
   "source": [
    "X_mm_new"
   ]
  },
  {
   "cell_type": "code",
   "execution_count": 22,
   "metadata": {},
   "outputs": [],
   "source": [
    "X_mm_new = pd.DataFrame(X_mm_new, columns=X_minmax.columns)"
   ]
  },
  {
   "cell_type": "code",
   "execution_count": 23,
   "metadata": {},
   "outputs": [
    {
     "data": {
      "text/html": [
       "<div>\n",
       "<style scoped>\n",
       "    .dataframe tbody tr th:only-of-type {\n",
       "        vertical-align: middle;\n",
       "    }\n",
       "\n",
       "    .dataframe tbody tr th {\n",
       "        vertical-align: top;\n",
       "    }\n",
       "\n",
       "    .dataframe thead th {\n",
       "        text-align: right;\n",
       "    }\n",
       "</style>\n",
       "<table border=\"1\" class=\"dataframe\">\n",
       "  <thead>\n",
       "    <tr style=\"text-align: right;\">\n",
       "      <th></th>\n",
       "      <th>Pregnancies</th>\n",
       "      <th>DiabetesPedigree</th>\n",
       "      <th>AgeLog</th>\n",
       "    </tr>\n",
       "  </thead>\n",
       "  <tbody>\n",
       "    <tr>\n",
       "      <th>0</th>\n",
       "      <td>1.0</td>\n",
       "      <td>1.000000</td>\n",
       "      <td>1.0</td>\n",
       "    </tr>\n",
       "    <tr>\n",
       "      <th>1</th>\n",
       "      <td>0.4</td>\n",
       "      <td>0.062406</td>\n",
       "      <td>0.0</td>\n",
       "    </tr>\n",
       "    <tr>\n",
       "      <th>2</th>\n",
       "      <td>0.0</td>\n",
       "      <td>0.000000</td>\n",
       "      <td>0.0</td>\n",
       "    </tr>\n",
       "  </tbody>\n",
       "</table>\n",
       "</div>"
      ],
      "text/plain": [
       "   Pregnancies  DiabetesPedigree  AgeLog\n",
       "0          1.0          1.000000     1.0\n",
       "1          0.4          0.062406     0.0\n",
       "2          0.0          0.000000     0.0"
      ]
     },
     "execution_count": 23,
     "metadata": {},
     "output_type": "execute_result"
    }
   ],
   "source": [
    "X_mm_new.head()"
   ]
  },
  {
   "cell_type": "markdown",
   "metadata": {},
   "source": [
    "### Merge the transformed dataset to existing one"
   ]
  },
  {
   "cell_type": "code",
   "execution_count": 24,
   "metadata": {},
   "outputs": [
    {
     "data": {
      "text/html": [
       "<div>\n",
       "<style scoped>\n",
       "    .dataframe tbody tr th:only-of-type {\n",
       "        vertical-align: middle;\n",
       "    }\n",
       "\n",
       "    .dataframe tbody tr th {\n",
       "        vertical-align: top;\n",
       "    }\n",
       "\n",
       "    .dataframe thead th {\n",
       "        text-align: right;\n",
       "    }\n",
       "</style>\n",
       "<table border=\"1\" class=\"dataframe\">\n",
       "  <thead>\n",
       "    <tr style=\"text-align: right;\">\n",
       "      <th></th>\n",
       "      <th>PatientID</th>\n",
       "      <th>Pregnancies</th>\n",
       "      <th>PlasmaGlucose</th>\n",
       "      <th>DiastolicBloodPressure</th>\n",
       "      <th>TricepsThickness</th>\n",
       "      <th>SerumInsulin</th>\n",
       "      <th>BMI</th>\n",
       "      <th>DiabetesPedigree</th>\n",
       "      <th>AgeLog</th>\n",
       "    </tr>\n",
       "  </thead>\n",
       "  <tbody>\n",
       "    <tr>\n",
       "      <th>0</th>\n",
       "      <td>1882185</td>\n",
       "      <td>9</td>\n",
       "      <td>104</td>\n",
       "      <td>51</td>\n",
       "      <td>7</td>\n",
       "      <td>24</td>\n",
       "      <td>27.369832</td>\n",
       "      <td>1.350472</td>\n",
       "      <td>3.761200</td>\n",
       "    </tr>\n",
       "    <tr>\n",
       "      <th>1</th>\n",
       "      <td>1662484</td>\n",
       "      <td>6</td>\n",
       "      <td>73</td>\n",
       "      <td>61</td>\n",
       "      <td>35</td>\n",
       "      <td>24</td>\n",
       "      <td>18.743674</td>\n",
       "      <td>0.158365</td>\n",
       "      <td>3.135494</td>\n",
       "    </tr>\n",
       "    <tr>\n",
       "      <th>2</th>\n",
       "      <td>1228510</td>\n",
       "      <td>4</td>\n",
       "      <td>115</td>\n",
       "      <td>50</td>\n",
       "      <td>29</td>\n",
       "      <td>243</td>\n",
       "      <td>34.692154</td>\n",
       "      <td>0.079019</td>\n",
       "      <td>3.135494</td>\n",
       "    </tr>\n",
       "  </tbody>\n",
       "</table>\n",
       "</div>"
      ],
      "text/plain": [
       "   PatientID  Pregnancies  PlasmaGlucose  DiastolicBloodPressure  \\\n",
       "0    1882185            9            104                      51   \n",
       "1    1662484            6             73                      61   \n",
       "2    1228510            4            115                      50   \n",
       "\n",
       "   TricepsThickness  SerumInsulin        BMI  DiabetesPedigree    AgeLog  \n",
       "0                 7            24  27.369832          1.350472  3.761200  \n",
       "1                35            24  18.743674          0.158365  3.135494  \n",
       "2                29           243  34.692154          0.079019  3.135494  "
      ]
     },
     "execution_count": 24,
     "metadata": {},
     "output_type": "execute_result"
    }
   ],
   "source": [
    "test"
   ]
  },
  {
   "cell_type": "code",
   "execution_count": 25,
   "metadata": {},
   "outputs": [],
   "source": [
    "test = test.drop(['Pregnancies','PlasmaGlucose','DiastolicBloodPressure','TricepsThickness',\n",
    "               'SerumInsulin','BMI','DiabetesPedigree','AgeLog'],axis=1)"
   ]
  },
  {
   "cell_type": "code",
   "execution_count": 26,
   "metadata": {},
   "outputs": [
    {
     "data": {
      "text/html": [
       "<div>\n",
       "<style scoped>\n",
       "    .dataframe tbody tr th:only-of-type {\n",
       "        vertical-align: middle;\n",
       "    }\n",
       "\n",
       "    .dataframe tbody tr th {\n",
       "        vertical-align: top;\n",
       "    }\n",
       "\n",
       "    .dataframe thead th {\n",
       "        text-align: right;\n",
       "    }\n",
       "</style>\n",
       "<table border=\"1\" class=\"dataframe\">\n",
       "  <thead>\n",
       "    <tr style=\"text-align: right;\">\n",
       "      <th></th>\n",
       "      <th>PatientID</th>\n",
       "    </tr>\n",
       "  </thead>\n",
       "  <tbody>\n",
       "    <tr>\n",
       "      <th>0</th>\n",
       "      <td>1882185</td>\n",
       "    </tr>\n",
       "    <tr>\n",
       "      <th>1</th>\n",
       "      <td>1662484</td>\n",
       "    </tr>\n",
       "    <tr>\n",
       "      <th>2</th>\n",
       "      <td>1228510</td>\n",
       "    </tr>\n",
       "  </tbody>\n",
       "</table>\n",
       "</div>"
      ],
      "text/plain": [
       "   PatientID\n",
       "0    1882185\n",
       "1    1662484\n",
       "2    1228510"
      ]
     },
     "execution_count": 26,
     "metadata": {},
     "output_type": "execute_result"
    }
   ],
   "source": [
    "test"
   ]
  },
  {
   "cell_type": "code",
   "execution_count": 27,
   "metadata": {},
   "outputs": [],
   "source": [
    "testnew = pd.concat([test,X_scale_new,X_mm_new],axis=1)"
   ]
  },
  {
   "cell_type": "code",
   "execution_count": 28,
   "metadata": {},
   "outputs": [
    {
     "data": {
      "text/html": [
       "<div>\n",
       "<style scoped>\n",
       "    .dataframe tbody tr th:only-of-type {\n",
       "        vertical-align: middle;\n",
       "    }\n",
       "\n",
       "    .dataframe tbody tr th {\n",
       "        vertical-align: top;\n",
       "    }\n",
       "\n",
       "    .dataframe thead th {\n",
       "        text-align: right;\n",
       "    }\n",
       "</style>\n",
       "<table border=\"1\" class=\"dataframe\">\n",
       "  <thead>\n",
       "    <tr style=\"text-align: right;\">\n",
       "      <th></th>\n",
       "      <th>PatientID</th>\n",
       "      <th>PlasmaGlucose</th>\n",
       "      <th>DiastolicBloodPressure</th>\n",
       "      <th>TricepsThickness</th>\n",
       "      <th>SerumInsulin</th>\n",
       "      <th>BMI</th>\n",
       "      <th>Pregnancies</th>\n",
       "      <th>DiabetesPedigree</th>\n",
       "      <th>AgeLog</th>\n",
       "    </tr>\n",
       "  </thead>\n",
       "  <tbody>\n",
       "    <tr>\n",
       "      <th>0</th>\n",
       "      <td>1882185</td>\n",
       "      <td>0.374898</td>\n",
       "      <td>-0.604040</td>\n",
       "      <td>-1.384622</td>\n",
       "      <td>-0.707107</td>\n",
       "      <td>0.066677</td>\n",
       "      <td>1.0</td>\n",
       "      <td>1.000000</td>\n",
       "      <td>1.0</td>\n",
       "    </tr>\n",
       "    <tr>\n",
       "      <th>1</th>\n",
       "      <td>1662484</td>\n",
       "      <td>-1.368376</td>\n",
       "      <td>1.409428</td>\n",
       "      <td>0.941543</td>\n",
       "      <td>-0.707107</td>\n",
       "      <td>-1.256721</td>\n",
       "      <td>0.4</td>\n",
       "      <td>0.062406</td>\n",
       "      <td>0.0</td>\n",
       "    </tr>\n",
       "    <tr>\n",
       "      <th>2</th>\n",
       "      <td>1228510</td>\n",
       "      <td>0.993478</td>\n",
       "      <td>-0.805387</td>\n",
       "      <td>0.443079</td>\n",
       "      <td>1.414214</td>\n",
       "      <td>1.190044</td>\n",
       "      <td>0.0</td>\n",
       "      <td>0.000000</td>\n",
       "      <td>0.0</td>\n",
       "    </tr>\n",
       "  </tbody>\n",
       "</table>\n",
       "</div>"
      ],
      "text/plain": [
       "   PatientID  PlasmaGlucose  DiastolicBloodPressure  TricepsThickness  \\\n",
       "0    1882185       0.374898               -0.604040         -1.384622   \n",
       "1    1662484      -1.368376                1.409428          0.941543   \n",
       "2    1228510       0.993478               -0.805387          0.443079   \n",
       "\n",
       "   SerumInsulin       BMI  Pregnancies  DiabetesPedigree  AgeLog  \n",
       "0     -0.707107  0.066677          1.0          1.000000     1.0  \n",
       "1     -0.707107 -1.256721          0.4          0.062406     0.0  \n",
       "2      1.414214  1.190044          0.0          0.000000     0.0  "
      ]
     },
     "execution_count": 28,
     "metadata": {},
     "output_type": "execute_result"
    }
   ],
   "source": [
    "testnew"
   ]
  },
  {
   "cell_type": "code",
   "execution_count": 29,
   "metadata": {},
   "outputs": [
    {
     "data": {
      "text/html": [
       "<div>\n",
       "<style scoped>\n",
       "    .dataframe tbody tr th:only-of-type {\n",
       "        vertical-align: middle;\n",
       "    }\n",
       "\n",
       "    .dataframe tbody tr th {\n",
       "        vertical-align: top;\n",
       "    }\n",
       "\n",
       "    .dataframe thead th {\n",
       "        text-align: right;\n",
       "    }\n",
       "</style>\n",
       "<table border=\"1\" class=\"dataframe\">\n",
       "  <thead>\n",
       "    <tr style=\"text-align: right;\">\n",
       "      <th></th>\n",
       "      <th>PatientID</th>\n",
       "      <th>PlasmaGlucose</th>\n",
       "      <th>DiastolicBloodPressure</th>\n",
       "      <th>TricepsThickness</th>\n",
       "      <th>SerumInsulin</th>\n",
       "      <th>BMI</th>\n",
       "      <th>Pregnancies</th>\n",
       "      <th>DiabetesPedigree</th>\n",
       "      <th>AgeLog</th>\n",
       "    </tr>\n",
       "  </thead>\n",
       "  <tbody>\n",
       "    <tr>\n",
       "      <th>count</th>\n",
       "      <td>3.000000e+00</td>\n",
       "      <td>3.000000e+00</td>\n",
       "      <td>3.000000e+00</td>\n",
       "      <td>3.000000e+00</td>\n",
       "      <td>3.000000</td>\n",
       "      <td>3.000000e+00</td>\n",
       "      <td>3.000000</td>\n",
       "      <td>3.000000</td>\n",
       "      <td>3.000000</td>\n",
       "    </tr>\n",
       "    <tr>\n",
       "      <th>mean</th>\n",
       "      <td>1.591060e+06</td>\n",
       "      <td>2.960595e-16</td>\n",
       "      <td>-3.700743e-17</td>\n",
       "      <td>-7.401487e-17</td>\n",
       "      <td>0.000000</td>\n",
       "      <td>2.960595e-16</td>\n",
       "      <td>0.466667</td>\n",
       "      <td>0.354135</td>\n",
       "      <td>0.333333</td>\n",
       "    </tr>\n",
       "    <tr>\n",
       "      <th>std</th>\n",
       "      <td>3.326392e+05</td>\n",
       "      <td>1.224745e+00</td>\n",
       "      <td>1.224745e+00</td>\n",
       "      <td>1.224745e+00</td>\n",
       "      <td>1.224745</td>\n",
       "      <td>1.224745e+00</td>\n",
       "      <td>0.503322</td>\n",
       "      <td>0.560205</td>\n",
       "      <td>0.577350</td>\n",
       "    </tr>\n",
       "    <tr>\n",
       "      <th>min</th>\n",
       "      <td>1.228510e+06</td>\n",
       "      <td>-1.368376e+00</td>\n",
       "      <td>-8.053873e-01</td>\n",
       "      <td>-1.384622e+00</td>\n",
       "      <td>-0.707107</td>\n",
       "      <td>-1.256721e+00</td>\n",
       "      <td>0.000000</td>\n",
       "      <td>0.000000</td>\n",
       "      <td>0.000000</td>\n",
       "    </tr>\n",
       "    <tr>\n",
       "      <th>25%</th>\n",
       "      <td>1.445497e+06</td>\n",
       "      <td>-4.967392e-01</td>\n",
       "      <td>-7.047139e-01</td>\n",
       "      <td>-4.707715e-01</td>\n",
       "      <td>-0.707107</td>\n",
       "      <td>-5.950222e-01</td>\n",
       "      <td>0.200000</td>\n",
       "      <td>0.031203</td>\n",
       "      <td>0.000000</td>\n",
       "    </tr>\n",
       "    <tr>\n",
       "      <th>50%</th>\n",
       "      <td>1.662484e+06</td>\n",
       "      <td>3.748975e-01</td>\n",
       "      <td>-6.040404e-01</td>\n",
       "      <td>4.430790e-01</td>\n",
       "      <td>-0.707107</td>\n",
       "      <td>6.667678e-02</td>\n",
       "      <td>0.400000</td>\n",
       "      <td>0.062406</td>\n",
       "      <td>0.000000</td>\n",
       "    </tr>\n",
       "    <tr>\n",
       "      <th>75%</th>\n",
       "      <td>1.772334e+06</td>\n",
       "      <td>6.841879e-01</td>\n",
       "      <td>4.026936e-01</td>\n",
       "      <td>6.923110e-01</td>\n",
       "      <td>0.353553</td>\n",
       "      <td>6.283606e-01</td>\n",
       "      <td>0.700000</td>\n",
       "      <td>0.531203</td>\n",
       "      <td>0.500000</td>\n",
       "    </tr>\n",
       "    <tr>\n",
       "      <th>max</th>\n",
       "      <td>1.882185e+06</td>\n",
       "      <td>9.934784e-01</td>\n",
       "      <td>1.409428e+00</td>\n",
       "      <td>9.415429e-01</td>\n",
       "      <td>1.414214</td>\n",
       "      <td>1.190044e+00</td>\n",
       "      <td>1.000000</td>\n",
       "      <td>1.000000</td>\n",
       "      <td>1.000000</td>\n",
       "    </tr>\n",
       "  </tbody>\n",
       "</table>\n",
       "</div>"
      ],
      "text/plain": [
       "          PatientID  PlasmaGlucose  DiastolicBloodPressure  TricepsThickness  \\\n",
       "count  3.000000e+00   3.000000e+00            3.000000e+00      3.000000e+00   \n",
       "mean   1.591060e+06   2.960595e-16           -3.700743e-17     -7.401487e-17   \n",
       "std    3.326392e+05   1.224745e+00            1.224745e+00      1.224745e+00   \n",
       "min    1.228510e+06  -1.368376e+00           -8.053873e-01     -1.384622e+00   \n",
       "25%    1.445497e+06  -4.967392e-01           -7.047139e-01     -4.707715e-01   \n",
       "50%    1.662484e+06   3.748975e-01           -6.040404e-01      4.430790e-01   \n",
       "75%    1.772334e+06   6.841879e-01            4.026936e-01      6.923110e-01   \n",
       "max    1.882185e+06   9.934784e-01            1.409428e+00      9.415429e-01   \n",
       "\n",
       "       SerumInsulin           BMI  Pregnancies  DiabetesPedigree    AgeLog  \n",
       "count      3.000000  3.000000e+00     3.000000          3.000000  3.000000  \n",
       "mean       0.000000  2.960595e-16     0.466667          0.354135  0.333333  \n",
       "std        1.224745  1.224745e+00     0.503322          0.560205  0.577350  \n",
       "min       -0.707107 -1.256721e+00     0.000000          0.000000  0.000000  \n",
       "25%       -0.707107 -5.950222e-01     0.200000          0.031203  0.000000  \n",
       "50%       -0.707107  6.667678e-02     0.400000          0.062406  0.000000  \n",
       "75%        0.353553  6.283606e-01     0.700000          0.531203  0.500000  \n",
       "max        1.414214  1.190044e+00     1.000000          1.000000  1.000000  "
      ]
     },
     "execution_count": 29,
     "metadata": {},
     "output_type": "execute_result"
    }
   ],
   "source": [
    "testnew.describe()"
   ]
  },
  {
   "cell_type": "code",
   "execution_count": 30,
   "metadata": {},
   "outputs": [],
   "source": [
    "testnew = testnew.drop(['PatientID'],axis=1)"
   ]
  },
  {
   "cell_type": "code",
   "execution_count": 31,
   "metadata": {},
   "outputs": [
    {
     "data": {
      "text/html": [
       "<div>\n",
       "<style scoped>\n",
       "    .dataframe tbody tr th:only-of-type {\n",
       "        vertical-align: middle;\n",
       "    }\n",
       "\n",
       "    .dataframe tbody tr th {\n",
       "        vertical-align: top;\n",
       "    }\n",
       "\n",
       "    .dataframe thead th {\n",
       "        text-align: right;\n",
       "    }\n",
       "</style>\n",
       "<table border=\"1\" class=\"dataframe\">\n",
       "  <thead>\n",
       "    <tr style=\"text-align: right;\">\n",
       "      <th></th>\n",
       "      <th>PlasmaGlucose</th>\n",
       "      <th>DiastolicBloodPressure</th>\n",
       "      <th>TricepsThickness</th>\n",
       "      <th>SerumInsulin</th>\n",
       "      <th>BMI</th>\n",
       "      <th>Pregnancies</th>\n",
       "      <th>DiabetesPedigree</th>\n",
       "      <th>AgeLog</th>\n",
       "    </tr>\n",
       "  </thead>\n",
       "  <tbody>\n",
       "    <tr>\n",
       "      <th>0</th>\n",
       "      <td>0.374898</td>\n",
       "      <td>-0.604040</td>\n",
       "      <td>-1.384622</td>\n",
       "      <td>-0.707107</td>\n",
       "      <td>0.066677</td>\n",
       "      <td>1.0</td>\n",
       "      <td>1.000000</td>\n",
       "      <td>1.0</td>\n",
       "    </tr>\n",
       "    <tr>\n",
       "      <th>1</th>\n",
       "      <td>-1.368376</td>\n",
       "      <td>1.409428</td>\n",
       "      <td>0.941543</td>\n",
       "      <td>-0.707107</td>\n",
       "      <td>-1.256721</td>\n",
       "      <td>0.4</td>\n",
       "      <td>0.062406</td>\n",
       "      <td>0.0</td>\n",
       "    </tr>\n",
       "    <tr>\n",
       "      <th>2</th>\n",
       "      <td>0.993478</td>\n",
       "      <td>-0.805387</td>\n",
       "      <td>0.443079</td>\n",
       "      <td>1.414214</td>\n",
       "      <td>1.190044</td>\n",
       "      <td>0.0</td>\n",
       "      <td>0.000000</td>\n",
       "      <td>0.0</td>\n",
       "    </tr>\n",
       "  </tbody>\n",
       "</table>\n",
       "</div>"
      ],
      "text/plain": [
       "   PlasmaGlucose  DiastolicBloodPressure  TricepsThickness  SerumInsulin  \\\n",
       "0       0.374898               -0.604040         -1.384622     -0.707107   \n",
       "1      -1.368376                1.409428          0.941543     -0.707107   \n",
       "2       0.993478               -0.805387          0.443079      1.414214   \n",
       "\n",
       "        BMI  Pregnancies  DiabetesPedigree  AgeLog  \n",
       "0  0.066677          1.0          1.000000     1.0  \n",
       "1 -1.256721          0.4          0.062406     0.0  \n",
       "2  1.190044          0.0          0.000000     0.0  "
      ]
     },
     "execution_count": 31,
     "metadata": {},
     "output_type": "execute_result"
    }
   ],
   "source": [
    "testnew"
   ]
  },
  {
   "cell_type": "code",
   "execution_count": 32,
   "metadata": {},
   "outputs": [],
   "source": [
    "#Rearrange columns\n",
    "testnew = testnew[['Pregnancies','PlasmaGlucose','DiastolicBloodPressure','TricepsThickness',\n",
    "          'SerumInsulin','BMI','DiabetesPedigree','AgeLog']]"
   ]
  },
  {
   "cell_type": "code",
   "execution_count": 33,
   "metadata": {},
   "outputs": [
    {
     "data": {
      "text/html": [
       "<div>\n",
       "<style scoped>\n",
       "    .dataframe tbody tr th:only-of-type {\n",
       "        vertical-align: middle;\n",
       "    }\n",
       "\n",
       "    .dataframe tbody tr th {\n",
       "        vertical-align: top;\n",
       "    }\n",
       "\n",
       "    .dataframe thead th {\n",
       "        text-align: right;\n",
       "    }\n",
       "</style>\n",
       "<table border=\"1\" class=\"dataframe\">\n",
       "  <thead>\n",
       "    <tr style=\"text-align: right;\">\n",
       "      <th></th>\n",
       "      <th>Pregnancies</th>\n",
       "      <th>PlasmaGlucose</th>\n",
       "      <th>DiastolicBloodPressure</th>\n",
       "      <th>TricepsThickness</th>\n",
       "      <th>SerumInsulin</th>\n",
       "      <th>BMI</th>\n",
       "      <th>DiabetesPedigree</th>\n",
       "      <th>AgeLog</th>\n",
       "    </tr>\n",
       "  </thead>\n",
       "  <tbody>\n",
       "    <tr>\n",
       "      <th>0</th>\n",
       "      <td>1.0</td>\n",
       "      <td>0.374898</td>\n",
       "      <td>-0.604040</td>\n",
       "      <td>-1.384622</td>\n",
       "      <td>-0.707107</td>\n",
       "      <td>0.066677</td>\n",
       "      <td>1.000000</td>\n",
       "      <td>1.0</td>\n",
       "    </tr>\n",
       "    <tr>\n",
       "      <th>1</th>\n",
       "      <td>0.4</td>\n",
       "      <td>-1.368376</td>\n",
       "      <td>1.409428</td>\n",
       "      <td>0.941543</td>\n",
       "      <td>-0.707107</td>\n",
       "      <td>-1.256721</td>\n",
       "      <td>0.062406</td>\n",
       "      <td>0.0</td>\n",
       "    </tr>\n",
       "    <tr>\n",
       "      <th>2</th>\n",
       "      <td>0.0</td>\n",
       "      <td>0.993478</td>\n",
       "      <td>-0.805387</td>\n",
       "      <td>0.443079</td>\n",
       "      <td>1.414214</td>\n",
       "      <td>1.190044</td>\n",
       "      <td>0.000000</td>\n",
       "      <td>0.0</td>\n",
       "    </tr>\n",
       "  </tbody>\n",
       "</table>\n",
       "</div>"
      ],
      "text/plain": [
       "   Pregnancies  PlasmaGlucose  DiastolicBloodPressure  TricepsThickness  \\\n",
       "0          1.0       0.374898               -0.604040         -1.384622   \n",
       "1          0.4      -1.368376                1.409428          0.941543   \n",
       "2          0.0       0.993478               -0.805387          0.443079   \n",
       "\n",
       "   SerumInsulin       BMI  DiabetesPedigree  AgeLog  \n",
       "0     -0.707107  0.066677          1.000000     1.0  \n",
       "1     -0.707107 -1.256721          0.062406     0.0  \n",
       "2      1.414214  1.190044          0.000000     0.0  "
      ]
     },
     "execution_count": 33,
     "metadata": {},
     "output_type": "execute_result"
    }
   ],
   "source": [
    "testnew"
   ]
  },
  {
   "cell_type": "code",
   "execution_count": 34,
   "metadata": {},
   "outputs": [],
   "source": [
    "#Save to a new csv file\n",
    "#testnew.to_csv(\"testcleaned.csv\",index=False)"
   ]
  },
  {
   "cell_type": "code",
   "execution_count": null,
   "metadata": {},
   "outputs": [],
   "source": []
  }
 ],
 "metadata": {
  "kernelspec": {
   "display_name": "Python 3",
   "language": "python",
   "name": "python3"
  },
  "language_info": {
   "codemirror_mode": {
    "name": "ipython",
    "version": 3
   },
   "file_extension": ".py",
   "mimetype": "text/x-python",
   "name": "python",
   "nbconvert_exporter": "python",
   "pygments_lexer": "ipython3",
   "version": "3.6.12"
  }
 },
 "nbformat": 4,
 "nbformat_minor": 2
}
