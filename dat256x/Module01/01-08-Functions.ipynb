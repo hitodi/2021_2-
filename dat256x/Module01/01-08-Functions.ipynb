{
 "cells": [
  {
   "cell_type": "markdown",
   "metadata": {},
   "source": [
    "# Functions\n",
    "So far in this course we've explored equations that perform algebraic operations to produce one or more results. A *function* is a way of encapsulating an operation that takes an input and produces exactly one ouput.\n",
    "\n",
    "For example, consider the following function definition:\n",
    "\n",
    "\\begin{equation}f(x) = x^{2} + 2\\end{equation}\n",
    "\n",
    "This defines a function named ***f*** that accepts one input (***x***) and returns a single value that is the result calculated by the expression *x<sup>2</sup> + 2*.\n",
    "\n",
    "Having defined the function, we can use it for any input value. For example:\n",
    "\n",
    "\\begin{equation}f(3) = 11\\end{equation}\n",
    "\n",
    "You've already seen a few examples of Python functions, which are defined using the **def** keyword. However, the strict definition of an algebraic function is that it must return a single value. Here's an example of defining and using a Python function that meets this criteria:"
   ]
  },
  {
   "cell_type": "code",
   "execution_count": 1,
   "metadata": {},
   "outputs": [
    {
     "data": {
      "text/plain": [
       "11"
      ]
     },
     "execution_count": 1,
     "metadata": {},
     "output_type": "execute_result"
    }
   ],
   "source": [
    "# define a function to return x^2 + 2\n",
    "def f(x):\n",
    "    return x**2 + 2\n",
    "\n",
    "# call the function\n",
    "f(3)"
   ]
  },
  {
   "cell_type": "markdown",
   "metadata": {},
   "source": [
    "You can use functions in equations, just like any other term. For example, consider the following equation:\n",
    "\n",
    "\\begin{equation}y = f(x) - 1\\end{equation}\n",
    "\n",
    "To calculate a value for ***y***, we take the ***f*** of ***x*** and subtract 1. So assuming that ***f*** is defined as previously, given an ***x*** value of 4, this equation returns a ***y*** value of **17** (*f*(4) returns 4<sup>2</sup> + 2, so 16 + 2 = 18; and then the equation subtracts 1 to give us 17). Here it is in Python:"
   ]
  },
  {
   "cell_type": "code",
   "execution_count": 2,
   "metadata": {},
   "outputs": [
    {
     "name": "stdout",
     "output_type": "stream",
     "text": [
      "17\n"
     ]
    }
   ],
   "source": [
    "x = 4\n",
    "y = f(x) - 1\n",
    "print(y)"
   ]
  },
  {
   "cell_type": "markdown",
   "metadata": {},
   "source": [
    "Of course, the value returned by a function depends on the input; and you can graph this with the iput (let's call it ***x***) on one axis and the output (***f(x)***) on the other."
   ]
  },
  {
   "cell_type": "code",
   "execution_count": 3,
   "metadata": {},
   "outputs": [
    {
     "data": {
      "image/png": "[encoded data removed]",
      "text/plain": [
       "<Figure size 432x288 with 1 Axes>"
      ]
     },
     "metadata": {
      "needs_background": "light"
     },
     "output_type": "display_data"
    }
   ],
   "source": [
    "%matplotlib inline\n",
    "\n",
    "import numpy as np\n",
    "from matplotlib import pyplot as plt\n",
    "\n",
    "# Create an array of x values from -100 to 100\n",
    "x = np.array(range(-100, 101))\n",
    "\n",
    "# Set up the graph\n",
    "plt.xlabel('x')\n",
    "plt.ylabel('f(x)')\n",
    "plt.grid()\n",
    "\n",
    "# Plot x against f(x)\n",
    "plt.plot(x,f(x), color='purple')\n",
    "\n",
    "plt.show()"
   ]
  },
  {
   "cell_type": "markdown",
   "metadata": {},
   "source": [
    "As you can see (if you hadn't already figured it out), our function is a *quadratic function* - it returns a squared value that results in a parabolic graph when the output for multiple input values are plotted."
   ]
  },
  {
   "cell_type": "markdown",
   "metadata": {},
   "source": [
    "## Bounds of a Function\n",
    "Some functions will work for any input and may return any output. For example, consider the function ***u*** defined here:\n",
    "\n",
    "\\begin{equation}u(x) = x + 1\\end{equation}\n",
    "\n",
    "This function simply adds 1 to whatever input is passed to it, so it will produce a defined output for any value of ***x*** that is a *real* number; in other words, any \"regular\" number - but not an *imaginary* number like &radic;-1, or &infin; (infinity). You can specify the set of real numbers using the symbol ${\\rm I\\!R}$ (note the double stroke). The values that can be used for ***x*** can be expressed as a *set*, which we indicate by enclosing all of the members of the set in \"{...}\" braces; so to indicate the set of all possible values for x such that x is a member of the set of all real numbers, we can use the following expression:\n",
    "\n",
    "\\begin{equation}\\{x \\in \\rm I\\!R\\}\\end{equation}\n",
    "\n",
    "\n",
    "### Domain of a Function\n",
    "We call the set of numbers for which a function can return value it's *domain*, and in this case, the domain of ***u*** is the set of all real numbers; which is actually the default assumption for most functions.\n",
    "\n",
    "Now consider the following function ***g***:\n",
    "\n",
    "\\begin{equation}g(x) = (\\frac{12}{2x})^{2}\\end{equation}\n",
    "\n",
    "If we use this function with an ***x*** value of **2**, we would get the output **9**; because (12 &div; (2&bull;2))<sup>2</sup> is 9. Similarly, if we use the value **-3** for ***x***, the output will be **4**. However, what happens when we apply this function to an ***x*** value of **0**? Anything divided by 0 is undefined, so the function ***g*** doesn't work for an ***x*** value of 0.\n",
    "\n",
    "So we need a way to denote the domain of the function ***g*** by indicating the input values for which a defined output can be returned. Specifically, we need to restrict ***x*** to a specific list of values - specifically any real number that is not 0. To indicate this, we can use the following notation:\n",
    "\n",
    "\\begin{equation}\\{x \\in \\rm I\\!R\\;\\;|\\;\\; x \\ne 0 \\}\\end{equation}\n",
    "\n",
    "This is interpreted as *Any value for x where x is in the set of real numbers such that x is not equal to 0*, and we can incorporate this into the function's definition like this:\n",
    "\n",
    "\\begin{equation}g(x) = (\\frac{12}{2x})^{2}, \\{x \\in \\rm I\\!R\\;\\;|\\;\\; x \\ne 0 \\}\\end{equation}\n",
    "\n",
    "Or more simply:\n",
    "\n",
    "\\begin{equation}g(x) = (\\frac{12}{2x})^{2},\\;\\; x \\ne 0\\end{equation}\n",
    "\n",
    "When you plot the output of a function, you can indicate the gaps caused by input values that are not in the function's domain by plotting an empty circle to show that the function is not defined at this point:"
   ]
  },
  {
   "cell_type": "code",
   "execution_count": 4,
   "metadata": {},
   "outputs": [
    {
     "data": {
      "image/png": "[encoded data removed]",
      "text/plain": [
       "<Figure size 432x288 with 1 Axes>"
      ]
     },
     "metadata": {
      "needs_background": "light"
     },
     "output_type": "display_data"
    }
   ],
   "source": [
    "%matplotlib inline\n",
    "\n",
    "# Define function g\n",
    "def g(x):\n",
    "    if x != 0:\n",
    "        return (12/(2*x))**2\n",
    "\n",
    "# Plot output from function g\n",
    "import numpy as np\n",
    "from matplotlib import pyplot as plt\n",
    "\n",
    "# Create an array of x values from -100 to 100\n",
    "x = range(-100, 101)\n",
    "\n",
    "# Get the corresponding y values from the function\n",
    "y = [g(a) for a in x]\n",
    "\n",
    "# Set up the graph\n",
    "plt.xlabel('x')\n",
    "plt.ylabel('g(x)')\n",
    "plt.grid()\n",
    "\n",
    "# Plot x against g(x)\n",
    "plt.plot(x,y, color='purple')\n",
    "\n",
    "# plot an empty circle to show the undefined point\n",
    "plt.plot(0,g(0.0000001), color='purple', marker='o', markerfacecolor='w', markersize=8)\n",
    "\n",
    "plt.show()"
   ]
  },
  {
   "cell_type": "markdown",
   "metadata": {},
   "source": [
    "Note that the function works for every value other than 0; so the function is defined for x = 0.000000001, and for x = -0.000000001; it only fails to return a defined value for exactly 0.\n",
    "\n",
    "OK, let's take another example. Consider this function:\n",
    "\n",
    "\\begin{equation}h(x) = 2\\sqrt{x}\\end{equation}\n",
    "\n",
    "Applying this function to a non-negative ***x*** value returns a meaningful output; but for any value where ***x*** is negative, the output is undefined.\n",
    "\n",
    "We can indicate the domain of this function in its definition like this:\n",
    "\n",
    "\\begin{equation}h(x) = 2\\sqrt{x}, \\{x \\in \\rm I\\!R\\;\\;|\\;\\; x \\ge 0 \\}\\end{equation}\n",
    "\n",
    "This is interpreted as *Any value for x where x is in the set of real numbers such that x is greater than or equal to 0*.\n",
    "\n",
    "Or, you might see this in a simpler format:\n",
    "\n",
    "\\begin{equation}h(x) = 2\\sqrt{x},\\;\\; x \\ge 0\\end{equation}\n",
    "\n",
    "Note that the symbol &ge; is used to indicate that the value must be *greater than **or equal to*** 0; and this means that **0** is included in the set of valid values. To indicate that the value must be *greater than 0, **not including 0***, use the &gt; symbol. You can also use the equivalent symbols for *less than or equal to* (&le;) and *less than* (&lt;).\n",
    "\n",
    "When plotting a function line that marks the end of a continuous range, the end of the line is shown as a circle, which is filled if the function includes the value at that point, and unfilled if it does not.\n",
    "\n",
    "Here's the Python to plot function ***h***:"
   ]
  },
  {
   "cell_type": "code",
   "execution_count": 5,
   "metadata": {},
   "outputs": [
    {
     "data": {
      "image/png": "[encoded data removed]",
      "text/plain": [
       "<Figure size 432x288 with 1 Axes>"
      ]
     },
     "metadata": {
      "needs_background": "light"
     },
     "output_type": "display_data"
    }
   ],
   "source": [
    "%matplotlib inline\n",
    "\n",
    "def h(x):\n",
    "    if x >= 0:\n",
    "        import numpy as np\n",
    "        return 2 * np.sqrt(x)\n",
    "\n",
    "# Plot output from function h\n",
    "import numpy as np\n",
    "from matplotlib import pyplot as plt\n",
    "\n",
    "# Create an array of x values from -100 to 100\n",
    "x = range(-100, 101)\n",
    "\n",
    "# Get the corresponding y values from the function\n",
    "y = [h(a) for a in x]\n",
    "\n",
    "# Set up the graph\n",
    "plt.xlabel('x')\n",
    "plt.ylabel('h(x)')\n",
    "plt.grid()\n",
    "\n",
    "# Plot x against h(x)\n",
    "plt.plot(x,y, color='purple')\n",
    "\n",
    "# plot a filled circle at the end to indicate a closed interval\n",
    "plt.plot(0, h(0), color='purple', marker='o', markerfacecolor='purple', markersize=8)\n",
    "\n",
    "plt.show()"
   ]
  },
  {
   "cell_type": "markdown",
   "metadata": {},
   "source": [
    "Sometimes, a function may be defined for a specific *interval*; for example, for all values between 0 and 5:\n",
    "\n",
    "\\begin{equation}j(x) = x + 2,\\;\\; x \\ge 0 \\text{ and } x \\le 5\\end{equation}\n",
    "\n",
    "In this case, the function is defined for ***x*** values between 0 and 5 *inclusive*; in other words, **0** and **5** are included in the set of defined values. This is known as a *closed* interval and can be indicated like this:\n",
    "\n",
    "\\begin{equation}\\{x \\in \\rm I\\!R\\;\\;|\\;\\; 0 \\le x \\le 5 \\}\\end{equation}\n",
    "\n",
    "It could also be indicated like this:\n",
    "\n",
    "\\begin{equation}\\{x \\in \\rm I\\!R\\;\\;|\\;\\; [0,5] \\}\\end{equation}\n",
    "\n",
    "If the condition in the function was **x > 0 and x < 5**, then the interval would be described as *open* and 0 and 5 would *not* be included in the set of defined values. This would be indicated using one of the following expressions:\n",
    "\n",
    "\\begin{equation}\\{x \\in \\rm I\\!R\\;\\;|\\;\\; 0 \\lt x \\lt 5 \\}\\end{equation}\n",
    "\\begin{equation}\\{x \\in \\rm I\\!R\\;\\;|\\;\\; (0,5) \\}\\end{equation}\n",
    "\n",
    "Here's function ***j*** in Python:"
   ]
  },
  {
   "cell_type": "code",
   "execution_count": 6,
   "metadata": {},
   "outputs": [
    {
     "data": {
      "image/png": "[encoded data removed]",
      "text/plain": [
       "<Figure size 432x288 with 1 Axes>"
      ]
     },
     "metadata": {
      "needs_background": "light"
     },
     "output_type": "display_data"
    }
   ],
   "source": [
    "%matplotlib inline\n",
    "\n",
    "def j(x):\n",
    "    if x >= 0 and x <= 5:\n",
    "        return x + 2\n",
    "\n",
    "    \n",
    "# Plot output from function j\n",
    "import numpy as np\n",
    "from matplotlib import pyplot as plt\n",
    "\n",
    "# Create an array of x values from -100 to 100\n",
    "x = range(-100, 101)\n",
    "y = [j(a) for a in x]\n",
    "\n",
    "# Set up the graph\n",
    "plt.xlabel('x')\n",
    "plt.ylabel('j(x)')\n",
    "plt.grid()\n",
    "\n",
    "# Plot x against k(x)\n",
    "plt.plot(x, y, color='purple')\n",
    "\n",
    "# plot a filled circle at the ends to indicate an open interval\n",
    "plt.plot(0, j(0), color='purple', marker='o', markerfacecolor='purple', markersize=8)\n",
    "plt.plot(5, j(5), color='purple', marker='o', markerfacecolor='purple', markersize=8)\n",
    "\n",
    "plt.show()"
   ]
  },
  {
   "cell_type": "markdown",
   "metadata": {},
   "source": [
    "Now, suppose we have a function like this:\n",
    "\n",
    "\\begin{equation}\n",
    "k(x) = \\begin{cases}\n",
    "  0, & \\text{if } x = 0, \\\\\n",
    "  1, & \\text{if } x = 100\n",
    "\\end{cases}\n",
    "\\end{equation}\n",
    "\n",
    "In this case, the function has highly restricted domain; it only returns a defined output for 0 and 100. No output for any other ***x*** value is defined. In this case, the set of the domain is:\n",
    "\n",
    "\\begin{equation}\\{0,100\\}\\end{equation}\n",
    "\n",
    "Note that this does not include all real numbers, it only includes 0 and 100.\n",
    "\n",
    "When we use Python to plot this function, note that it only makes sense to plot a scatter plot showing the individual values returned, there is no line in between because the function is not continuous between the values within the domain. "
   ]
  },
  {
   "cell_type": "code",
   "execution_count": 7,
   "metadata": {},
   "outputs": [
    {
     "data": {
      "image/png": "[encoded data removed]",
      "text/plain": [
       "<Figure size 432x288 with 1 Axes>"
      ]
     },
     "metadata": {
      "needs_background": "light"
     },
     "output_type": "display_data"
    }
   ],
   "source": [
    "%matplotlib inline\n",
    "\n",
    "def k(x):\n",
    "    if x == 0:\n",
    "        return 0\n",
    "    elif x == 100:\n",
    "        return 1\n",
    "\n",
    "    \n",
    "# Plot output from function k\n",
    "from matplotlib import pyplot as plt\n",
    "\n",
    "# Create an array of x values from -100 to 100\n",
    "x = range(-100, 101)\n",
    "# Get the k(x) values for every value in x\n",
    "y = [k(a) for a in x]\n",
    "\n",
    "# Set up the graph\n",
    "plt.xlabel('x')\n",
    "plt.ylabel('k(x)')\n",
    "plt.grid()\n",
    "\n",
    "# Plot x against k(x)\n",
    "plt.scatter(x, y, color='purple')\n",
    "\n",
    "plt.show()"
   ]
  },
  {
   "cell_type": "markdown",
   "metadata": {},
   "source": [
    "### Range of a Function\n",
    "Just as the domain of a function defines the set of values for which the function is defined, the *range* of a function defines the set of possible outputs from the function.\n",
    "\n",
    "For example, consider the following function:\n",
    "\n",
    "\\begin{equation}p(x) = x^{2} + 1\\end{equation}\n",
    "\n",
    "The domain of this function is all real numbers. However, this is a quadratic function, so the output values will form a parabola; and since the function has no negative coefficient or constant, it will be an upward opening parabola with a vertex that has a y value of 1.\n",
    "\n",
    "So what does that tell us? Well, the minimum value that will be returned by this function is 1, so it's range is:\n",
    "\n",
    "\\begin{equation}\\{p(x) \\in \\rm I\\!R\\;\\;|\\;\\; p(x) \\ge 1 \\}\\end{equation}\n",
    "\n",
    "Let's create and plot the function for a range of ***x*** values in Python:"
   ]
  },
  {
   "cell_type": "code",
   "execution_count": 8,
   "metadata": {},
   "outputs": [
    {
     "data": {
      "image/png": "[encoded data removed]",
      "text/plain": [
       "<Figure size 432x288 with 1 Axes>"
      ]
     },
     "metadata": {
      "needs_background": "light"
     },
     "output_type": "display_data"
    }
   ],
   "source": [
    "%matplotlib inline\n",
    "\n",
    "# define a function to return x^2 + 1\n",
    "def p(x):\n",
    "    return x**2 + 1\n",
    "\n",
    "\n",
    "# Plot the function\n",
    "import numpy as np\n",
    "from matplotlib import pyplot as plt\n",
    "\n",
    "# Create an array of x values from -100 to 100\n",
    "x = np.array(range(-100, 101))\n",
    "\n",
    "# Set up the graph\n",
    "plt.xlabel('x')\n",
    "plt.ylabel('p(x)')\n",
    "plt.grid()\n",
    "\n",
    "# Plot x against f(x)\n",
    "plt.plot(x,p(x), color='purple')\n",
    "\n",
    "plt.show()"
   ]
  },
  {
   "cell_type": "markdown",
   "metadata": {},
   "source": [
    "Note that the ***p(x)*** values in the plot drop exponentially for ***x*** values that are negative, and then rise exponentially for positive ***x*** values; but the minimum value returned by the function (for an *x* value of 0) is **1**."
   ]
  }
 ],
 "metadata": {
  "kernelspec": {
   "display_name": "Python 3",
   "language": "python",
   "name": "python3"
  },
  "language_info": {
   "codemirror_mode": {
    "name": "ipython",
    "version": 3
   },
   "file_extension": ".py",
   "mimetype": "text/x-python",
   "name": "python",
   "nbconvert_exporter": "python",
   "pygments_lexer": "ipython3",
   "version": "3.6.12"
  }
 },
 "nbformat": 4,
 "nbformat_minor": 2
}
